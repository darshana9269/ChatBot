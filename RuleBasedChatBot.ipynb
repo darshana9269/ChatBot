{
  "nbformat": 4,
  "nbformat_minor": 0,
  "metadata": {
    "colab": {
      "provenance": [],
      "authorship_tag": "ABX9TyNhN5Nf+ryvLbvpQa3H6BKj",
      "include_colab_link": true
    },
    "kernelspec": {
      "name": "python3",
      "display_name": "Python 3"
    },
    "language_info": {
      "name": "python"
    }
  },
  "cells": [
    {
      "cell_type": "markdown",
      "metadata": {
        "id": "view-in-github",
        "colab_type": "text"
      },
      "source": [
        "<a href=\"https://colab.research.google.com/github/darshana9269/ChatBot/blob/main/RuleBasedChatBot.ipynb\" target=\"_parent\"><img src=\"https://colab.research.google.com/assets/colab-badge.svg\" alt=\"Open In Colab\"/></a>"
      ]
    },
    {
      "cell_type": "code",
      "execution_count": 6,
      "metadata": {
        "id": "8fDaeSWIyP5Q"
      },
      "outputs": [],
      "source": [
        "import re\n",
        "import random"
      ]
    },
    {
      "cell_type": "code",
      "source": [
        "class RuleBot:\n",
        "  ### Potential Negative Responses\n",
        "  negative_responses = (\"no\",\"sorry\",\"nope\",\"nah\",\"not a chance\",\"problem\",\"unclear\",\"difficult\",\"bias\",\"risk\")\n",
        "  ### Exit Conversation Keywords\n",
        "  exit_commands = (\"bye\",\"quit\",\"pause\",\"exit\",\"goodbye\",\"later\",\"see you soon\")\n",
        "  ### Random Starter Questions\n",
        "  random_questions = (\n",
        "      \"How are you?\",\n",
        "      \"Why are you here?\",\n",
        "      \"How can I help you?\",\n",
        "      \"Are there any issues with product details?\",\n",
        "      \"What are the necessary documents required for purchase?\",\n",
        "      \"Can I visited the store in person?\",\n",
        "      \"Which product you likes the most?\",\n",
        "      \"Can I know the price?\"\n",
        "  )\n",
        "\n",
        "  def __init__(self):\n",
        "    self.aakash = {'describe_product_intent':r'.*\\s*your product.*',\n",
        "                   'answer_why_intent':r'why\\sare.*',\n",
        "                   'about_coding':r'.*\\s*coding'\n",
        "                   }\n",
        "\n",
        "  def greet(self):\n",
        "      self.name = input(\"What is your name?\\n\")\n",
        "      will_help = input(\n",
        "          f\"Hi {self.name}, I am a Rule-Bot. Will you help me to learn about your product?\\n\")\n",
        "      if will_help in self.negative_responses:\n",
        "        print(\"Ok, Have a nice day!\")\n",
        "        return\n",
        "      self.chat()\n",
        "\n",
        "  def make_exit(self,reply):\n",
        "      for command in self.exit_commands:\n",
        "        if reply == command:\n",
        "            print(\"Ok,Have a nice day!\")\n",
        "            return True\n",
        "\n",
        "  def chat(self):\n",
        "      reply = input(random.choice(self.random_questions)).lower()\n",
        "      while not self.make_exit(reply):\n",
        "          reply = input(self.match_reply(reply))\n",
        "\n",
        "\n",
        "  def match_reply(self,reply):\n",
        "      for key, value in self.aakash.items():\n",
        "          intent = key\n",
        "          regex_pattern = value\n",
        "          found_match = re.match(regex_pattern, reply)\n",
        "          if found_match and intent == 'describe_product_intent':\n",
        "              return self.describe_product_intent()\n",
        "          elif found_match and intent == 'answer_why_intent':\n",
        "              return self.answer_why_intent()\n",
        "          elif found_match and intent == 'about_coding':\n",
        "              return self.about_coding()\n",
        "      if not found_match:\n",
        "          return self.no_match_intent()\n",
        "\n",
        "  \n",
        "  def describe_product_intent(self):\n",
        "      responses = (\"Our product is new in the market\\n\",\n",
        "                   \"Our product reviews are really good\\n\",\n",
        "                   \"I am here to give more information about our product\\n\")\n",
        "      return random.choice(responses)\n",
        "\n",
        "  def answer_why_intent(self):\n",
        "      responses = (\"I come here to know about your product\\n\",\n",
        "                   \"Your product reviews are really good\\n\",\n",
        "                   \"I am here to collect more information about your product\\n\")\n",
        "      return random.choice(responses)\n",
        "\n",
        "  def about_coding(self):\n",
        "      responses = (\"IT industry is booming in all over world\\n\",\n",
        "                   \"It is really important to learn coding for good skills\\n\",\n",
        "                   \"Coding will help you to shape your career and growth\\n\")\n",
        "      return random.choice(responses)\n",
        "\n",
        "  def no_match_intent(self):\n",
        "      responses = (\"Please tell me more\\n\",\n",
        "                   \"Why do you say that?\\n\",\n",
        "                   \"Tell me more\\n\",\n",
        "                   \"I see. Can you elaborate?\\n\",\n",
        "                   \"Interesting. Can you tell me more\\n\",\n",
        "                   \"I see. How do you think?\\n\",\n",
        "                   \"Why?\\n\")\n",
        "      return random.choice(responses)\n",
        "\n",
        "\n",
        "MyBot = RuleBot()\n",
        "MyBot.greet()\n",
        "      "
      ],
      "metadata": {
        "colab": {
          "base_uri": "https://localhost:8080/"
        },
        "id": "Jx7GNVsWyssF",
        "outputId": "99cdea6f-2b0f-4638-b406-50faeb233a77"
      },
      "execution_count": 7,
      "outputs": [
        {
          "output_type": "stream",
          "name": "stdout",
          "text": [
            "What is your name?\n",
            "darshana\n",
            "Hi darshana, I am a Rule-Bot. Will you help me to learn about your product?\n",
            "yes\n",
            "Which product you likes the most?Car\n",
            "Why?\n",
            "Car is mandatory in nowadays life\n",
            "Interesting. Can you tell me more\n",
            "Yes sure I have driving hobby so I like the cars\n",
            "I see. How do you think?\n",
            "I think every person have atleast one car at home\n",
            "Why?\n",
            "Car is necessacity\n",
            "Why do you say that?\n",
            "Bye\n",
            "Interesting. Can you tell me more\n",
            "bye\n",
            "Ok,Have a nice day!\n"
          ]
        }
      ]
    }
  ]
}